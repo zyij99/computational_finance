{
 "cells": [
  {
   "cell_type": "markdown",
   "metadata": {},
   "source": [
    "### CIS 4360 Computational Methods in Finance"
   ]
  },
  {
   "cell_type": "code",
   "execution_count": 16,
   "metadata": {
    "tags": []
   },
   "outputs": [],
   "source": [
    "import math\n",
    "import pandas as pd\n",
    "import numpy as np\n",
    "import seaborn as sns\n",
    "import plotly.express as px\n",
    "from scipy.stats import skew, kurtosis\n",
    "from math import log, exp, sqrt, pow\n",
    "\n",
    "from stock import Stock\n",
    "import option\n",
    "import os\n",
    "import sqlite3\n",
    "from financial_option import *\n",
    "import datetime"
   ]
  },
  {
   "cell_type": "markdown",
   "metadata": {},
   "source": [
    "**Property of normal distribution**"
   ]
  },
  {
   "cell_type": "markdown",
   "metadata": {},
   "source": [
    "$$ ln S_T \\sim \\phi \\left[ ln S_0 + \\left(\\mu - \\frac{\\sigma^2}{2}\\right) T, \\sigma^2 T\\right]$$"
   ]
  },
  {
   "cell_type": "markdown",
   "metadata": {},
   "source": [
    "**There is a 95% probability that a normal variable will fall within 1.96 standard deviations**"
   ]
  },
  {
   "cell_type": "markdown",
   "metadata": {},
   "source": [
    "**The 95% confidence interval of the normal variable will be between (mean - 1.96 stdev) and (mean+1.96 stdev)**  "
   ]
  },
  {
   "cell_type": "markdown",
   "metadata": {},
   "source": [
    "## Example 15.1"
   ]
  },
  {
   "cell_type": "markdown",
   "metadata": {},
   "source": [
    "**Consider a stock with an initial price of 40, an expected return of 16\\% per annum, and a volatility of 20%. What is the 95% confidence interval of the stock price in 6 months?**"
   ]
  },
  {
   "cell_type": "code",
   "execution_count": 2,
   "metadata": {
    "tags": []
   },
   "outputs": [],
   "source": [
    "# Example 15.1\n",
    "S0 = 40\n",
    "mu = 0.16\n",
    "sigma = 0.2\n",
    "T = 6/12"
   ]
  },
  {
   "cell_type": "code",
   "execution_count": 3,
   "metadata": {
    "tags": []
   },
   "outputs": [
    {
     "name": "stdout",
     "output_type": "stream",
     "text": [
      "3.758879454113936 0.14142135623730953\n"
     ]
    }
   ],
   "source": [
    "mean = log(S0) + (mu - pow(sigma, 2)/2)*T\n",
    "stdev = sigma * sqrt(T)\n",
    "print(mean, stdev)"
   ]
  },
  {
   "cell_type": "code",
   "execution_count": 4,
   "metadata": {
    "tags": []
   },
   "outputs": [
    {
     "name": "stdout",
     "output_type": "stream",
     "text": [
      "32.51474230558975 56.603188205344175\n"
     ]
    }
   ],
   "source": [
    "lower_bound = exp(mean - 1.96*stdev)\n",
    "upper_bound = exp(mean + 1.96*stdev)\n",
    "print(lower_bound, upper_bound)"
   ]
  },
  {
   "cell_type": "markdown",
   "metadata": {},
   "source": [
    "## Example 15.6"
   ]
  },
  {
   "cell_type": "markdown",
   "metadata": {},
   "source": [
    "**The stock price 6 months from the expiration of an option is 42, exercise price of the option is 40, risk-free rate is 10% and volatility is 20%. What should be the call and put priced at?**"
   ]
  },
  {
   "cell_type": "code",
   "execution_count": 5,
   "metadata": {
    "tags": []
   },
   "outputs": [],
   "source": [
    "from scipy.stats import norm"
   ]
  },
  {
   "cell_type": "code",
   "execution_count": 6,
   "metadata": {
    "tags": []
   },
   "outputs": [],
   "source": [
    "S0 = 42\n",
    "K = 40\n",
    "r = 0.1\n",
    "sigma = 0.2\n",
    "T = 0.5"
   ]
  },
  {
   "cell_type": "code",
   "execution_count": 7,
   "metadata": {
    "tags": []
   },
   "outputs": [
    {
     "name": "stdout",
     "output_type": "stream",
     "text": [
      "0.7692626281060315 0.6278412718687221\n"
     ]
    }
   ],
   "source": [
    "d1 = (log(S0/K)+(r + sigma**2/2)*T)/(sigma * sqrt(T))\n",
    "d2 = (log(S0/K)+(r - sigma**2/2)*T)/(sigma * sqrt(T))\n",
    "print(d1, d2)"
   ]
  },
  {
   "cell_type": "code",
   "execution_count": 8,
   "metadata": {
    "tags": []
   },
   "outputs": [
    {
     "name": "stdout",
     "output_type": "stream",
     "text": [
      "4.759422392871532\n"
     ]
    }
   ],
   "source": [
    "c = S0* norm.cdf(d1) - K*exp(-r*T)*norm.cdf(d2)\n",
    "print(c)"
   ]
  },
  {
   "cell_type": "code",
   "execution_count": 9,
   "metadata": {
    "tags": []
   },
   "outputs": [],
   "source": [
    "p = K * exp(-r*T)*norm.cdf(-d2) - S0*norm.cdf(-d1)"
   ]
  },
  {
   "cell_type": "code",
   "execution_count": 10,
   "metadata": {
    "tags": []
   },
   "outputs": [
    {
     "data": {
      "text/plain": [
       "0.8085993729000922"
      ]
     },
     "execution_count": 10,
     "metadata": {},
     "output_type": "execute_result"
    }
   ],
   "source": [
    "p"
   ]
  },
  {
   "cell_type": "markdown",
   "metadata": {},
   "source": [
    "### Now let's compare that with your Black-Schole Model Implementation"
   ]
  },
  {
   "cell_type": "markdown",
   "metadata": {},
   "source": [
    "***That is, use your OO Black-Scholes model implementation to calculate the price of the above options. Make sure they reproduce the same answer***"
   ]
  },
  {
   "cell_type": "markdown",
   "metadata": {},
   "source": [
    "***Import your library***"
   ]
  },
  {
   "cell_type": "code",
   "execution_count": 25,
   "metadata": {
    "scrolled": true,
    "tags": []
   },
   "outputs": [],
   "source": [
    "from blackscholes_model import BlackScholesModel"
   ]
  },
  {
   "cell_type": "markdown",
   "metadata": {},
   "source": [
    "***Question 1: First create a Stock object with the spot_price and the sigma***"
   ]
  },
  {
   "cell_type": "code",
   "execution_count": 22,
   "metadata": {
    "tags": []
   },
   "outputs": [],
   "source": [
    "opt = option.Option()\n",
    "opt.data_dir = \"./data\"\n",
    "opt.output_dir = os.path.join(opt.data_dir, \"daily\")\n",
    "opt.sqlite_db = os.path.join(opt.data_dir, \"sqlitedb/Equity.db\")\n",
    "db_file = opt.sqlite_db\n",
    "db_connection = sqlite3.connect(db_file)\n",
    "\n",
    "S0 = 42 #spot\n",
    "sigma = .2 #variance\n",
    "\n",
    "#Stock Obj\n",
    "stock = Stock(opt, db_connection, 'AAPL', freq='quarterly', spot_price=S0, sigma=sigma)"
   ]
  },
  {
   "cell_type": "markdown",
   "metadata": {},
   "source": [
    "***Question 2: Create instance of the model***"
   ]
  },
  {
   "cell_type": "code",
   "execution_count": 23,
   "metadata": {
    "tags": []
   },
   "outputs": [],
   "source": [
    "pricing_date = datetime.date(2023, 12,8)\n",
    "r = 0.1 #risk-free-rate\n",
    "bs_model = BlackScholesModel(pricing_date, r)"
   ]
  },
  {
   "cell_type": "markdown",
   "metadata": {},
   "source": [
    "***Question 3: Now call your model calc_model_price to calculate the above options***"
   ]
  },
  {
   "cell_type": "code",
   "execution_count": 27,
   "metadata": {
    "tags": []
   },
   "outputs": [
    {
     "name": "stdout",
     "output_type": "stream",
     "text": [
      "Call Option Price:  4.759422392871532\n",
      "Put Option Price:  0.8085993729000922\n"
     ]
    }
   ],
   "source": [
    "K = 40 #strike\n",
    "T = 0.5 #time-to-expiry\n",
    "\n",
    "option_call = EuropeanCallOption(stock, time_to_expiry=T, strike=K)\n",
    "option_put = EuropeanPutOption(stock, time_to_expiry=T, strike=K)\n",
    "\n",
    "option_call_price = bs_model.calc_model_price(option_call)\n",
    "option_put_price = bs_model.calc_model_price(option_put)\n",
    "\n",
    "print('Call Option Price: ', option_call_price)\n",
    "print('Put Option Price: ', option_put_price)"
   ]
  },
  {
   "cell_type": "markdown",
   "metadata": {},
   "source": [
    "***Question 4: Now call your model to calculate ALL the greeks for both options***"
   ]
  },
  {
   "cell_type": "code",
   "execution_count": 28,
   "metadata": {
    "tags": []
   },
   "outputs": [
    {
     "name": "stdout",
     "output_type": "stream",
     "text": [
      "Call Delta: 0.779131290942669\n",
      "Call Gamma: 0.04996267040591185\n",
      "Call Theta: -4.559092194592627\n",
      "Call Vega: 8.813415059602853\n",
      "Call Rho: 13.982045913360283\n",
      "Put Delta: -0.22086870905733103\n",
      "Put Gamma: 0.04996267040591185\n",
      "Put Theta: 1.0584711857367115\n",
      "Put Vega: 8.813415059602853\n",
      "Put Rho: -5.0425425766539975\n"
     ]
    }
   ],
   "source": [
    "# calc delta, gamma, theta, vega for both the call and the put\n",
    "\n",
    "#Call for greeks\n",
    "call_delta = bs_model.calc_delta(option_call)\n",
    "call_gamma = bs_model.calc_gamma(option_call)\n",
    "call_theta = bs_model.calc_theta(option_call)\n",
    "call_vega = bs_model.calc_vega(option_call)\n",
    "call_rho = bs_model.calc_rho(option_call)\n",
    "#Put for greeks\n",
    "put_delta = bs_model.calc_delta(option_put)\n",
    "put_gamma = bs_model.calc_gamma(option_put)\n",
    "put_theta = bs_model.calc_theta(option_put)\n",
    "put_vega = bs_model.calc_vega(option_put)\n",
    "put_rho = bs_model.calc_rho(option_put)\n",
    "\n",
    "print('Call Delta:', call_delta)\n",
    "print('Call Gamma:', call_gamma)\n",
    "print('Call Theta:', call_theta)\n",
    "print('Call Vega:', call_vega)\n",
    "print('Call Rho:', call_rho)\n",
    "\n",
    "print('Put Delta:', put_delta)\n",
    "print('Put Gamma:', put_gamma)\n",
    "print('Put Theta:', put_theta)\n",
    "print('Put Vega:', put_vega)\n",
    "print('Put Rho:', put_rho)"
   ]
  },
  {
   "cell_type": "code",
   "execution_count": null,
   "metadata": {},
   "outputs": [],
   "source": []
  }
 ],
 "metadata": {
  "kernelspec": {
   "display_name": "Python 3 (ipykernel)",
   "language": "python",
   "name": "python3"
  },
  "language_info": {
   "codemirror_mode": {
    "name": "ipython",
    "version": 3
   },
   "file_extension": ".py",
   "mimetype": "text/x-python",
   "name": "python",
   "nbconvert_exporter": "python",
   "pygments_lexer": "ipython3",
   "version": "3.11.4"
  }
 },
 "nbformat": 4,
 "nbformat_minor": 4
}
